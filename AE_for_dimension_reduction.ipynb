{
 "cells": [
  {
   "cell_type": "code",
   "execution_count": 23,
   "metadata": {},
   "outputs": [],
   "source": [
    "import os\n",
    "import numpy as np # linear algebra\n",
    "import pandas as pd # data processing, CSV file I/O (e.g. pd.read_csv)\n",
    "\n",
    "from numpy.random import seed\n",
    "from sklearn.preprocessing import minmax_scale\n",
    "from sklearn.model_selection import train_test_split\n",
    "from keras.layers import Input, Dense\n",
    "from keras.models import Model\n",
    "import joblib\n",
    "from sklearn.preprocessing import LabelEncoder"
   ]
  },
  {
   "cell_type": "code",
   "execution_count": 12,
   "metadata": {},
   "outputs": [],
   "source": [
    "#importing data\n",
    "X=joblib.load('output/X.joblib')\n",
    "y=joblib.load('output/y.joblib')"
   ]
  },
  {
   "cell_type": "code",
   "execution_count": 13,
   "metadata": {},
   "outputs": [
    {
     "name": "stdout",
     "output_type": "stream",
     "text": [
      "(12798, 40) (12798,)\n"
     ]
    }
   ],
   "source": [
    "print(X.shape,y.shape)"
   ]
  },
  {
   "cell_type": "code",
   "execution_count": 15,
   "metadata": {},
   "outputs": [],
   "source": [
    "ncol = X.shape[1]\n",
    "encoding_dim = 20"
   ]
  },
  {
   "cell_type": "code",
   "execution_count": 16,
   "metadata": {},
   "outputs": [],
   "source": [
    "input_dim = Input(shape = (ncol, ))"
   ]
  },
  {
   "cell_type": "code",
   "execution_count": 17,
   "metadata": {},
   "outputs": [],
   "source": [
    "encoded1 = Dense(3000, activation = 'relu')(input_dim)\n",
    "encoded2 = Dense(2750, activation = 'relu')(encoded1)\n",
    "encoded3 = Dense(2500, activation = 'relu')(encoded2)\n",
    "encoded4 = Dense(2250, activation = 'relu')(encoded3)\n",
    "encoded5 = Dense(2000, activation = 'relu')(encoded4)\n",
    "encoded6 = Dense(1750, activation = 'relu')(encoded5)\n",
    "encoded7 = Dense(1500, activation = 'relu')(encoded6)\n",
    "encoded8 = Dense(1250, activation = 'relu')(encoded7)\n",
    "encoded9 = Dense(1000, activation = 'relu')(encoded8)\n",
    "encoded10 = Dense(750, activation = 'relu')(encoded9)\n",
    "encoded11 = Dense(500, activation = 'relu')(encoded10)\n",
    "encoded12 = Dense(250, activation = 'relu')(encoded11)\n",
    "encoded13 = Dense(encoding_dim, activation = 'relu')(encoded12)\n",
    "\n",
    "# Decoder Layers\n",
    "decoded1 = Dense(250, activation = 'relu')(encoded13)\n",
    "decoded2 = Dense(500, activation = 'relu')(decoded1)\n",
    "decoded3 = Dense(750, activation = 'relu')(decoded2)\n",
    "decoded4 = Dense(1000, activation = 'relu')(decoded3)\n",
    "decoded5 = Dense(1250, activation = 'relu')(decoded4)\n",
    "decoded6 = Dense(1500, activation = 'relu')(decoded5)\n",
    "decoded7 = Dense(1750, activation = 'relu')(decoded6)\n",
    "decoded8 = Dense(2000, activation = 'relu')(decoded7)\n",
    "decoded9 = Dense(2250, activation = 'relu')(decoded8)\n",
    "decoded10 = Dense(2500, activation = 'relu')(decoded9)\n",
    "decoded11 = Dense(2750, activation = 'relu')(decoded10)\n",
    "decoded12 = Dense(3000, activation = 'relu')(decoded11)\n",
    "decoded13 = Dense(ncol, activation = 'sigmoid')(decoded12)\n"
   ]
  },
  {
   "cell_type": "code",
   "execution_count": 18,
   "metadata": {},
   "outputs": [],
   "source": [
    "# Combine Encoder and Deocder layers\n",
    "autoencoder = Model(inputs = input_dim, outputs = decoded13)"
   ]
  },
  {
   "cell_type": "code",
   "execution_count": 19,
   "metadata": {},
   "outputs": [],
   "source": [
    "# Compile the Model\n",
    "autoencoder.compile(optimizer = 'adadelta', loss = 'binary_crossentropy')"
   ]
  },
  {
   "cell_type": "code",
   "execution_count": 20,
   "metadata": {},
   "outputs": [
    {
     "name": "stdout",
     "output_type": "stream",
     "text": [
      "Model: \"model_1\"\n",
      "_________________________________________________________________\n",
      "Layer (type)                 Output Shape              Param #   \n",
      "=================================================================\n",
      "input_1 (InputLayer)         (None, 40)                0         \n",
      "_________________________________________________________________\n",
      "dense_1 (Dense)              (None, 3000)              123000    \n",
      "_________________________________________________________________\n",
      "dense_2 (Dense)              (None, 2750)              8252750   \n",
      "_________________________________________________________________\n",
      "dense_3 (Dense)              (None, 2500)              6877500   \n",
      "_________________________________________________________________\n",
      "dense_4 (Dense)              (None, 2250)              5627250   \n",
      "_________________________________________________________________\n",
      "dense_5 (Dense)              (None, 2000)              4502000   \n",
      "_________________________________________________________________\n",
      "dense_6 (Dense)              (None, 1750)              3501750   \n",
      "_________________________________________________________________\n",
      "dense_7 (Dense)              (None, 1500)              2626500   \n",
      "_________________________________________________________________\n",
      "dense_8 (Dense)              (None, 1250)              1876250   \n",
      "_________________________________________________________________\n",
      "dense_9 (Dense)              (None, 1000)              1251000   \n",
      "_________________________________________________________________\n",
      "dense_10 (Dense)             (None, 750)               750750    \n",
      "_________________________________________________________________\n",
      "dense_11 (Dense)             (None, 500)               375500    \n",
      "_________________________________________________________________\n",
      "dense_12 (Dense)             (None, 250)               125250    \n",
      "_________________________________________________________________\n",
      "dense_13 (Dense)             (None, 20)                5020      \n",
      "_________________________________________________________________\n",
      "dense_14 (Dense)             (None, 250)               5250      \n",
      "_________________________________________________________________\n",
      "dense_15 (Dense)             (None, 500)               125500    \n",
      "_________________________________________________________________\n",
      "dense_16 (Dense)             (None, 750)               375750    \n",
      "_________________________________________________________________\n",
      "dense_17 (Dense)             (None, 1000)              751000    \n",
      "_________________________________________________________________\n",
      "dense_18 (Dense)             (None, 1250)              1251250   \n",
      "_________________________________________________________________\n",
      "dense_19 (Dense)             (None, 1500)              1876500   \n",
      "_________________________________________________________________\n",
      "dense_20 (Dense)             (None, 1750)              2626750   \n",
      "_________________________________________________________________\n",
      "dense_21 (Dense)             (None, 2000)              3502000   \n",
      "_________________________________________________________________\n",
      "dense_22 (Dense)             (None, 2250)              4502250   \n",
      "_________________________________________________________________\n",
      "dense_23 (Dense)             (None, 2500)              5627500   \n",
      "_________________________________________________________________\n",
      "dense_24 (Dense)             (None, 2750)              6877750   \n",
      "_________________________________________________________________\n",
      "dense_25 (Dense)             (None, 3000)              8253000   \n",
      "_________________________________________________________________\n",
      "dense_26 (Dense)             (None, 40)                120040    \n",
      "=================================================================\n",
      "Total params: 71,789,060\n",
      "Trainable params: 71,789,060\n",
      "Non-trainable params: 0\n",
      "_________________________________________________________________\n"
     ]
    }
   ],
   "source": [
    "autoencoder.summary()"
   ]
  },
  {
   "cell_type": "code",
   "execution_count": 24,
   "metadata": {},
   "outputs": [],
   "source": [
    "#label Encoding the data\n",
    "lb=LabelEncoder()\n",
    "y=lb.fit_transform(y)"
   ]
  },
  {
   "cell_type": "code",
   "execution_count": null,
   "metadata": {},
   "outputs": [],
   "source": [
    "X_train, X_test, Y_train, Y_test = train_test_split(X, target, train_size = 0.9, random_state = seed(2017))"
   ]
  }
 ],
 "metadata": {
  "kernelspec": {
   "display_name": "Python 3",
   "language": "python",
   "name": "python3"
  },
  "language_info": {
   "codemirror_mode": {
    "name": "ipython",
    "version": 3
   },
   "file_extension": ".py",
   "mimetype": "text/x-python",
   "name": "python",
   "nbconvert_exporter": "python",
   "pygments_lexer": "ipython3",
   "version": "3.7.6"
  }
 },
 "nbformat": 4,
 "nbformat_minor": 4
}
