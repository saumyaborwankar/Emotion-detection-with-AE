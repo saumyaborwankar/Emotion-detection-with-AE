{
 "cells": [
  {
   "cell_type": "code",
   "execution_count": 23,
   "metadata": {},
   "outputs": [],
   "source": [
    "import os\n",
    "import numpy as np # linear algebra\n",
    "import pandas as pd # data processing, CSV file I/O (e.g. pd.read_csv)\n",
    "\n",
    "from numpy.random import seed\n",
    "from sklearn.preprocessing import minmax_scale\n",
    "from sklearn.model_selection import train_test_split\n",
    "from keras.layers import Input, Dense\n",
    "from keras.models import Model\n",
    "import joblib\n",
    "from sklearn.preprocessing import LabelEncoder"
   ]
  },
  {
   "cell_type": "code",
   "execution_count": 12,
   "metadata": {},
   "outputs": [],
   "source": [
    "#importing data\n",
    "X=joblib.load('output/X.joblib')\n",
    "y=joblib.load('output/y.joblib')"
   ]
  },
  {
   "cell_type": "code",
   "execution_count": 13,
   "metadata": {},
   "outputs": [
    {
     "name": "stdout",
     "output_type": "stream",
     "text": [
      "(12798, 40) (12798,)\n"
     ]
    }
   ],
   "source": [
    "print(X.shape,y.shape)"
   ]
  },
  {
   "cell_type": "code",
   "execution_count": 15,
   "metadata": {},
   "outputs": [],
   "source": [
    "ncol = X.shape[1]\n",
    "encoding_dim = 20"
   ]
  },
  {
   "cell_type": "code",
   "execution_count": 16,
   "metadata": {},
   "outputs": [],
   "source": [
    "input_dim = Input(shape = (ncol, ))"
   ]
  },
  {
   "cell_type": "code",
   "execution_count": 17,
   "metadata": {},
   "outputs": [],
   "source": [
    "encoded1 = Dense(3000, activation = 'relu')(input_dim)\n",
    "encoded2 = Dense(2750, activation = 'relu')(encoded1)\n",
    "encoded3 = Dense(2500, activation = 'relu')(encoded2)\n",
    "encoded4 = Dense(2250, activation = 'relu')(encoded3)\n",
    "encoded5 = Dense(2000, activation = 'relu')(encoded4)\n",
    "encoded6 = Dense(1750, activation = 'relu')(encoded5)\n",
    "encoded7 = Dense(1500, activation = 'relu')(encoded6)\n",
    "encoded8 = Dense(1250, activation = 'relu')(encoded7)\n",
    "encoded9 = Dense(1000, activation = 'relu')(encoded8)\n",
    "encoded10 = Dense(750, activation = 'relu')(encoded9)\n",
    "encoded11 = Dense(500, activation = 'relu')(encoded10)\n",
    "encoded12 = Dense(250, activation = 'relu')(encoded11)\n",
    "encoded13 = Dense(encoding_dim, activation = 'relu')(encoded12)\n",
    "\n",
    "# Decoder Layers\n",
    "decoded1 = Dense(250, activation = 'relu')(encoded13)\n",
    "decoded2 = Dense(500, activation = 'relu')(decoded1)\n",
    "decoded3 = Dense(750, activation = 'relu')(decoded2)\n",
    "decoded4 = Dense(1000, activation = 'relu')(decoded3)\n",
    "decoded5 = Dense(1250, activation = 'relu')(decoded4)\n",
    "decoded6 = Dense(1500, activation = 'relu')(decoded5)\n",
    "decoded7 = Dense(1750, activation = 'relu')(decoded6)\n",
    "decoded8 = Dense(2000, activation = 'relu')(decoded7)\n",
    "decoded9 = Dense(2250, activation = 'relu')(decoded8)\n",
    "decoded10 = Dense(2500, activation = 'relu')(decoded9)\n",
    "decoded11 = Dense(2750, activation = 'relu')(decoded10)\n",
    "decoded12 = Dense(3000, activation = 'relu')(decoded11)\n",
    "decoded13 = Dense(ncol, activation = 'sigmoid')(decoded12)\n"
   ]
  },
  {
   "cell_type": "code",
   "execution_count": 18,
   "metadata": {},
   "outputs": [],
   "source": [
    "# Combine Encoder and Deocder layers\n",
    "autoencoder = Model(inputs = input_dim, outputs = decoded13)"
   ]
  },
  {
   "cell_type": "code",
   "execution_count": 19,
   "metadata": {},
   "outputs": [],
   "source": [
    "# Compile the Model\n",
    "autoencoder.compile(optimizer = 'adadelta', loss = 'binary_crossentropy')"
   ]
  },
  {
   "cell_type": "code",
   "execution_count": 20,
   "metadata": {},
   "outputs": [
    {
     "name": "stdout",
     "output_type": "stream",
     "text": [
      "Model: \"model_1\"\n",
      "_________________________________________________________________\n",
      "Layer (type)                 Output Shape              Param #   \n",
      "=================================================================\n",
      "input_1 (InputLayer)         (None, 40)                0         \n",
      "_________________________________________________________________\n",
      "dense_1 (Dense)              (None, 3000)              123000    \n",
      "_________________________________________________________________\n",
      "dense_2 (Dense)              (None, 2750)              8252750   \n",
      "_________________________________________________________________\n",
      "dense_3 (Dense)              (None, 2500)              6877500   \n",
      "_________________________________________________________________\n",
      "dense_4 (Dense)              (None, 2250)              5627250   \n",
      "_________________________________________________________________\n",
      "dense_5 (Dense)              (None, 2000)              4502000   \n",
      "_________________________________________________________________\n",
      "dense_6 (Dense)              (None, 1750)              3501750   \n",
      "_________________________________________________________________\n",
      "dense_7 (Dense)              (None, 1500)              2626500   \n",
      "_________________________________________________________________\n",
      "dense_8 (Dense)              (None, 1250)              1876250   \n",
      "_________________________________________________________________\n",
      "dense_9 (Dense)              (None, 1000)              1251000   \n",
      "_________________________________________________________________\n",
      "dense_10 (Dense)             (None, 750)               750750    \n",
      "_________________________________________________________________\n",
      "dense_11 (Dense)             (None, 500)               375500    \n",
      "_________________________________________________________________\n",
      "dense_12 (Dense)             (None, 250)               125250    \n",
      "_________________________________________________________________\n",
      "dense_13 (Dense)             (None, 20)                5020      \n",
      "_________________________________________________________________\n",
      "dense_14 (Dense)             (None, 250)               5250      \n",
      "_________________________________________________________________\n",
      "dense_15 (Dense)             (None, 500)               125500    \n",
      "_________________________________________________________________\n",
      "dense_16 (Dense)             (None, 750)               375750    \n",
      "_________________________________________________________________\n",
      "dense_17 (Dense)             (None, 1000)              751000    \n",
      "_________________________________________________________________\n",
      "dense_18 (Dense)             (None, 1250)              1251250   \n",
      "_________________________________________________________________\n",
      "dense_19 (Dense)             (None, 1500)              1876500   \n",
      "_________________________________________________________________\n",
      "dense_20 (Dense)             (None, 1750)              2626750   \n",
      "_________________________________________________________________\n",
      "dense_21 (Dense)             (None, 2000)              3502000   \n",
      "_________________________________________________________________\n",
      "dense_22 (Dense)             (None, 2250)              4502250   \n",
      "_________________________________________________________________\n",
      "dense_23 (Dense)             (None, 2500)              5627500   \n",
      "_________________________________________________________________\n",
      "dense_24 (Dense)             (None, 2750)              6877750   \n",
      "_________________________________________________________________\n",
      "dense_25 (Dense)             (None, 3000)              8253000   \n",
      "_________________________________________________________________\n",
      "dense_26 (Dense)             (None, 40)                120040    \n",
      "=================================================================\n",
      "Total params: 71,789,060\n",
      "Trainable params: 71,789,060\n",
      "Non-trainable params: 0\n",
      "_________________________________________________________________\n"
     ]
    }
   ],
   "source": [
    "autoencoder.summary()"
   ]
  },
  {
   "cell_type": "code",
   "execution_count": null,
   "metadata": {},
   "outputs": [],
   "source": [
    "#label Encoding the data\n",
    "lb=LabelEncoder()\n",
    "y=lb.fit_transform(y)"
   ]
  },
  {
   "cell_type": "code",
   "execution_count": 28,
   "metadata": {},
   "outputs": [
    {
     "name": "stdout",
     "output_type": "stream",
     "text": [
      "[0 0 0 ... 6 6 6]\n"
     ]
    }
   ],
   "source": [
    "print(y)"
   ]
  },
  {
   "cell_type": "code",
   "execution_count": 31,
   "metadata": {},
   "outputs": [],
   "source": [
    "X_train, X_test, Y_train, Y_test = train_test_split(X, y, train_size = 0.7, random_state = seed(2017))"
   ]
  },
  {
   "cell_type": "code",
   "execution_count": 33,
   "metadata": {},
   "outputs": [
    {
     "name": "stdout",
     "output_type": "stream",
     "text": [
      "Train on 8958 samples, validate on 3840 samples\n",
      "Epoch 1/10\n",
      "\r",
      "  32/8958 [..............................] - ETA: 46s - loss: -500267176883240986013073408.0000"
     ]
    },
    {
     "name": "stderr",
     "output_type": "stream",
     "text": [
      "D:\\Anacona3\\envs\\tf_gpuu\\lib\\site-packages\\ipykernel_launcher.py:1: UserWarning: The `nb_epoch` argument in `fit` has been renamed `epochs`.\n",
      "  \"\"\"Entry point for launching an IPython kernel.\n"
     ]
    },
    {
     "name": "stdout",
     "output_type": "stream",
     "text": [
      "8958/8958 [==============================] - 48s 5ms/step - loss: -495044019987922596418027520.0000 - val_loss: -498856387728336252022292480.0000\n",
      "Epoch 2/10\n",
      "8958/8958 [==============================] - 48s 5ms/step - loss: -501916474044288119647240192.0000 - val_loss: -505698273114891504293249024.0000\n",
      "Epoch 3/10\n",
      "8958/8958 [==============================] - 48s 5ms/step - loss: -508720580693991171448373248.0000 - val_loss: -512479830269628055614914560.0000\n",
      "Epoch 4/10\n",
      "8958/8958 [==============================] - 48s 5ms/step - loss: -515476520263198753377222656.0000 - val_loss: -519242896100659431733198848.0000\n",
      "Epoch 5/10\n",
      "8958/8958 [==============================] - 49s 5ms/step - loss: -522244777274067319762452480.0000 - val_loss: -526024641719631237385027584.0000\n",
      "Epoch 6/10\n",
      "8958/8958 [==============================] - 48s 5ms/step - loss: -529032831376802901619900416.0000 - val_loss: -532829619475535299033956352.0000\n",
      "Epoch 7/10\n",
      "8958/8958 [==============================] - 48s 5ms/step - loss: -535841705539943206041419776.0000 - val_loss: -539652145619076625603756032.0000\n",
      "Epoch 8/10\n",
      "8958/8958 [==============================] - 49s 5ms/step - loss: -542666090931396330433544192.0000 - val_loss: -546484463294372290947448832.0000\n",
      "Epoch 9/10\n",
      "8958/8958 [==============================] - 48s 5ms/step - loss: -549503345560619129310806016.0000 - val_loss: -553328902017753033369190400.0000\n",
      "Epoch 10/10\n",
      "8958/8958 [==============================] - 48s 5ms/step - loss: -556312090963097033262497792.0000 - val_loss: -560022255758255426233171968.0000\n"
     ]
    },
    {
     "data": {
      "text/plain": [
       "<keras.callbacks.callbacks.History at 0x23184285f48>"
      ]
     },
     "execution_count": 33,
     "metadata": {},
     "output_type": "execute_result"
    }
   ],
   "source": [
    "autoencoder.fit(X_train, X_train, nb_epoch = 10, batch_size = 32, shuffle = False, validation_data = (X_test, X_test))"
   ]
  },
  {
   "cell_type": "code",
   "execution_count": 34,
   "metadata": {},
   "outputs": [],
   "source": [
    "encoder = Model(inputs = input_dim, outputs = encoded13)\n",
    "encoded_input = Input(shape = (encoding_dim, ))"
   ]
  },
  {
   "cell_type": "code",
   "execution_count": 35,
   "metadata": {},
   "outputs": [],
   "source": [
    "encoded_train = pd.DataFrame(encoder.predict(X_train))\n",
    "encoded_train = encoded_train.add_prefix('feature_')\n",
    "\n",
    "encoded_test = pd.DataFrame(encoder.predict(X_test))\n",
    "encoded_test = encoded_test.add_prefix('feature_')"
   ]
  },
  {
   "cell_type": "code",
   "execution_count": 38,
   "metadata": {},
   "outputs": [],
   "source": [
    "encoded_train['target'] = Y_train"
   ]
  },
  {
   "cell_type": "code",
   "execution_count": 39,
   "metadata": {},
   "outputs": [
    {
     "name": "stdout",
     "output_type": "stream",
     "text": [
      "(8958, 21)\n"
     ]
    },
    {
     "data": {
      "text/html": [
       "<div>\n",
       "<style scoped>\n",
       "    .dataframe tbody tr th:only-of-type {\n",
       "        vertical-align: middle;\n",
       "    }\n",
       "\n",
       "    .dataframe tbody tr th {\n",
       "        vertical-align: top;\n",
       "    }\n",
       "\n",
       "    .dataframe thead th {\n",
       "        text-align: right;\n",
       "    }\n",
       "</style>\n",
       "<table border=\"1\" class=\"dataframe\">\n",
       "  <thead>\n",
       "    <tr style=\"text-align: right;\">\n",
       "      <th></th>\n",
       "      <th>feature_0</th>\n",
       "      <th>feature_1</th>\n",
       "      <th>feature_2</th>\n",
       "      <th>feature_3</th>\n",
       "      <th>feature_4</th>\n",
       "      <th>feature_5</th>\n",
       "      <th>feature_6</th>\n",
       "      <th>feature_7</th>\n",
       "      <th>feature_8</th>\n",
       "      <th>feature_9</th>\n",
       "      <th>...</th>\n",
       "      <th>feature_11</th>\n",
       "      <th>feature_12</th>\n",
       "      <th>feature_13</th>\n",
       "      <th>feature_14</th>\n",
       "      <th>feature_15</th>\n",
       "      <th>feature_16</th>\n",
       "      <th>feature_17</th>\n",
       "      <th>feature_18</th>\n",
       "      <th>feature_19</th>\n",
       "      <th>target</th>\n",
       "    </tr>\n",
       "  </thead>\n",
       "  <tbody>\n",
       "    <tr>\n",
       "      <th>0</th>\n",
       "      <td>2.127306e+11</td>\n",
       "      <td>0.0</td>\n",
       "      <td>0.0</td>\n",
       "      <td>0.0</td>\n",
       "      <td>0.0</td>\n",
       "      <td>1.387671e+13</td>\n",
       "      <td>0.0</td>\n",
       "      <td>0.0</td>\n",
       "      <td>6.592436e+11</td>\n",
       "      <td>2.672479e+12</td>\n",
       "      <td>...</td>\n",
       "      <td>0.0</td>\n",
       "      <td>0.0</td>\n",
       "      <td>3.646861e+12</td>\n",
       "      <td>3.851354e+12</td>\n",
       "      <td>0.0</td>\n",
       "      <td>7.725866e+12</td>\n",
       "      <td>3.143759e+12</td>\n",
       "      <td>2.769225e+12</td>\n",
       "      <td>0.0</td>\n",
       "      <td>3</td>\n",
       "    </tr>\n",
       "    <tr>\n",
       "      <th>1</th>\n",
       "      <td>2.119934e+11</td>\n",
       "      <td>0.0</td>\n",
       "      <td>0.0</td>\n",
       "      <td>0.0</td>\n",
       "      <td>0.0</td>\n",
       "      <td>1.320386e+13</td>\n",
       "      <td>0.0</td>\n",
       "      <td>0.0</td>\n",
       "      <td>6.235966e+11</td>\n",
       "      <td>2.552937e+12</td>\n",
       "      <td>...</td>\n",
       "      <td>0.0</td>\n",
       "      <td>0.0</td>\n",
       "      <td>3.465690e+12</td>\n",
       "      <td>3.661130e+12</td>\n",
       "      <td>0.0</td>\n",
       "      <td>7.344184e+12</td>\n",
       "      <td>2.994017e+12</td>\n",
       "      <td>2.640368e+12</td>\n",
       "      <td>0.0</td>\n",
       "      <td>0</td>\n",
       "    </tr>\n",
       "    <tr>\n",
       "      <th>2</th>\n",
       "      <td>2.100950e+11</td>\n",
       "      <td>0.0</td>\n",
       "      <td>0.0</td>\n",
       "      <td>0.0</td>\n",
       "      <td>0.0</td>\n",
       "      <td>2.402796e+13</td>\n",
       "      <td>0.0</td>\n",
       "      <td>0.0</td>\n",
       "      <td>1.010358e+12</td>\n",
       "      <td>4.179898e+12</td>\n",
       "      <td>...</td>\n",
       "      <td>0.0</td>\n",
       "      <td>0.0</td>\n",
       "      <td>6.407091e+12</td>\n",
       "      <td>6.570159e+12</td>\n",
       "      <td>0.0</td>\n",
       "      <td>1.338980e+13</td>\n",
       "      <td>5.274323e+12</td>\n",
       "      <td>4.777316e+12</td>\n",
       "      <td>0.0</td>\n",
       "      <td>0</td>\n",
       "    </tr>\n",
       "    <tr>\n",
       "      <th>3</th>\n",
       "      <td>1.856446e+11</td>\n",
       "      <td>0.0</td>\n",
       "      <td>0.0</td>\n",
       "      <td>0.0</td>\n",
       "      <td>0.0</td>\n",
       "      <td>1.035958e+13</td>\n",
       "      <td>0.0</td>\n",
       "      <td>0.0</td>\n",
       "      <td>5.224115e+11</td>\n",
       "      <td>2.136997e+12</td>\n",
       "      <td>...</td>\n",
       "      <td>0.0</td>\n",
       "      <td>0.0</td>\n",
       "      <td>2.716453e+12</td>\n",
       "      <td>2.906448e+12</td>\n",
       "      <td>0.0</td>\n",
       "      <td>5.765479e+12</td>\n",
       "      <td>2.412801e+12</td>\n",
       "      <td>2.084038e+12</td>\n",
       "      <td>0.0</td>\n",
       "      <td>1</td>\n",
       "    </tr>\n",
       "    <tr>\n",
       "      <th>4</th>\n",
       "      <td>1.938680e+11</td>\n",
       "      <td>0.0</td>\n",
       "      <td>0.0</td>\n",
       "      <td>0.0</td>\n",
       "      <td>0.0</td>\n",
       "      <td>1.129944e+13</td>\n",
       "      <td>0.0</td>\n",
       "      <td>0.0</td>\n",
       "      <td>5.536321e+11</td>\n",
       "      <td>2.276178e+12</td>\n",
       "      <td>...</td>\n",
       "      <td>0.0</td>\n",
       "      <td>0.0</td>\n",
       "      <td>2.965440e+12</td>\n",
       "      <td>3.154844e+12</td>\n",
       "      <td>0.0</td>\n",
       "      <td>6.285114e+12</td>\n",
       "      <td>2.606869e+12</td>\n",
       "      <td>2.270337e+12</td>\n",
       "      <td>0.0</td>\n",
       "      <td>4</td>\n",
       "    </tr>\n",
       "  </tbody>\n",
       "</table>\n",
       "<p>5 rows × 21 columns</p>\n",
       "</div>"
      ],
      "text/plain": [
       "      feature_0  feature_1  feature_2  feature_3  feature_4     feature_5  \\\n",
       "0  2.127306e+11        0.0        0.0        0.0        0.0  1.387671e+13   \n",
       "1  2.119934e+11        0.0        0.0        0.0        0.0  1.320386e+13   \n",
       "2  2.100950e+11        0.0        0.0        0.0        0.0  2.402796e+13   \n",
       "3  1.856446e+11        0.0        0.0        0.0        0.0  1.035958e+13   \n",
       "4  1.938680e+11        0.0        0.0        0.0        0.0  1.129944e+13   \n",
       "\n",
       "   feature_6  feature_7     feature_8     feature_9  ...  feature_11  \\\n",
       "0        0.0        0.0  6.592436e+11  2.672479e+12  ...         0.0   \n",
       "1        0.0        0.0  6.235966e+11  2.552937e+12  ...         0.0   \n",
       "2        0.0        0.0  1.010358e+12  4.179898e+12  ...         0.0   \n",
       "3        0.0        0.0  5.224115e+11  2.136997e+12  ...         0.0   \n",
       "4        0.0        0.0  5.536321e+11  2.276178e+12  ...         0.0   \n",
       "\n",
       "   feature_12    feature_13    feature_14  feature_15    feature_16  \\\n",
       "0         0.0  3.646861e+12  3.851354e+12         0.0  7.725866e+12   \n",
       "1         0.0  3.465690e+12  3.661130e+12         0.0  7.344184e+12   \n",
       "2         0.0  6.407091e+12  6.570159e+12         0.0  1.338980e+13   \n",
       "3         0.0  2.716453e+12  2.906448e+12         0.0  5.765479e+12   \n",
       "4         0.0  2.965440e+12  3.154844e+12         0.0  6.285114e+12   \n",
       "\n",
       "     feature_17    feature_18  feature_19  target  \n",
       "0  3.143759e+12  2.769225e+12         0.0       3  \n",
       "1  2.994017e+12  2.640368e+12         0.0       0  \n",
       "2  5.274323e+12  4.777316e+12         0.0       0  \n",
       "3  2.412801e+12  2.084038e+12         0.0       1  \n",
       "4  2.606869e+12  2.270337e+12         0.0       4  \n",
       "\n",
       "[5 rows x 21 columns]"
      ]
     },
     "execution_count": 39,
     "metadata": {},
     "output_type": "execute_result"
    }
   ],
   "source": [
    "print(encoded_train.shape)\n",
    "encoded_train.head()"
   ]
  },
  {
   "cell_type": "code",
   "execution_count": 41,
   "metadata": {},
   "outputs": [],
   "source": [
    "encoded_train.to_csv(r'AE_train.csv', index = False)"
   ]
  },
  {
   "cell_type": "code",
   "execution_count": 42,
   "metadata": {},
   "outputs": [],
   "source": [
    "encoded_test.to_csv(r'AE_test.csv', index = False)"
   ]
  },
  {
   "cell_type": "code",
   "execution_count": 43,
   "metadata": {},
   "outputs": [],
   "source": [
    "X_train = 'X_train.joblib'\n",
    "y_train = 'y_train.joblib'\n",
    "X_test = 'X_test.joblib'\n",
    "y_test = 'y_test.joblib'\n",
    "save_dir = 'output/'\n",
    "\n",
    "savedX = joblib.dump(X, os.path.join(save_dir, X_train))\n",
    "savedy = joblib.dump(y, os.path.join(save_dir, y_train))\n",
    "savedX = joblib.dump(X, os.path.join(save_dir, X_test))\n",
    "savedy = joblib.dump(y, os.path.join(save_dir, y_test))"
   ]
  },
  {
   "cell_type": "code",
   "execution_count": null,
   "metadata": {},
   "outputs": [],
   "source": []
  }
 ],
 "metadata": {
  "kernelspec": {
   "display_name": "Python 3",
   "language": "python",
   "name": "python3"
  },
  "language_info": {
   "codemirror_mode": {
    "name": "ipython",
    "version": 3
   },
   "file_extension": ".py",
   "mimetype": "text/x-python",
   "name": "python",
   "nbconvert_exporter": "python",
   "pygments_lexer": "ipython3",
   "version": "3.7.6"
  }
 },
 "nbformat": 4,
 "nbformat_minor": 4
}
